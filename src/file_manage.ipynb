{
 "cells": [
  {
   "cell_type": "code",
   "execution_count": 2,
   "metadata": {},
   "outputs": [],
   "source": [
    "import os\n",
    "import sys\n",
    "import glob\n",
    "import shutil"
   ]
  },
  {
   "cell_type": "code",
   "execution_count": 7,
   "metadata": {},
   "outputs": [],
   "source": [
    "list_all_org = glob.glob('../data/protected/org/*.png')\n",
    "\n",
    "for str_file_name in list_all_org:\n",
    "    str_basename = os.path.basename(str_file_name)\n",
    "    str_brand = str_basename.split('_')[-2]\n",
    "    str_brand_dir = f\"../data/protected/org/{str_brand}/\"\n",
    "    if not os.path.exists(str_brand_dir):\n",
    "        os.makedirs(str_brand_dir)\n",
    "    \n",
    "    shutil.move(str_file_name, str_brand_dir)\n",
    "    \n"
   ]
  },
  {
   "cell_type": "code",
   "execution_count": 8,
   "metadata": {},
   "outputs": [],
   "source": [
    "list_all_org = glob.glob('../data/protected/pertubated/*.png')\n",
    "\n",
    "for str_file_name in list_all_org:\n",
    "    str_basename = os.path.basename(str_file_name)\n",
    "    str_brand = str_basename.split('_')[-2]\n",
    "    str_brand_dir = f\"../data/protected/pertubated/{str_brand}/\"\n",
    "    if not os.path.exists(str_brand_dir):\n",
    "        os.makedirs(str_brand_dir)\n",
    "    \n",
    "    shutil.move(str_file_name, str_brand_dir)\n",
    "    \n"
   ]
  },
  {
   "cell_type": "code",
   "execution_count": 9,
   "metadata": {},
   "outputs": [],
   "source": [
    "list_all_org = glob.glob('../data/protected/scaled_org/*.png')\n",
    "\n",
    "for str_file_name in list_all_org:\n",
    "    str_basename = os.path.basename(str_file_name)\n",
    "    str_brand = str_basename.split('_')[-2]\n",
    "    str_brand_dir = f\"../data/protected/scaled_org/{str_brand}/\"\n",
    "    if not os.path.exists(str_brand_dir):\n",
    "        os.makedirs(str_brand_dir)\n",
    "    \n",
    "    shutil.move(str_file_name, str_brand_dir)\n",
    "    \n"
   ]
  },
  {
   "cell_type": "code",
   "execution_count": null,
   "metadata": {},
   "outputs": [],
   "source": []
  }
 ],
 "metadata": {
  "kernelspec": {
   "display_name": "Python 3",
   "language": "python",
   "name": "python3"
  },
  "language_info": {
   "codemirror_mode": {
    "name": "ipython",
    "version": 3
   },
   "file_extension": ".py",
   "mimetype": "text/x-python",
   "name": "python",
   "nbconvert_exporter": "python",
   "pygments_lexer": "ipython3",
   "version": "3.10.4"
  },
  "orig_nbformat": 4
 },
 "nbformat": 4,
 "nbformat_minor": 2
}
